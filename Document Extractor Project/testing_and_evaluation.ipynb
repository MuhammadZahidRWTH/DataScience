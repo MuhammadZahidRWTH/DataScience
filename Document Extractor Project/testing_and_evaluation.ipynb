{
  "cells": [
    {
      "cell_type": "markdown",
      "metadata": {},
      "source": [
        "# 🧪 Evaluation Notebook: Flat Folder Setup\n",
        "\n",
        "This notebook verifies:\n",
        "- OCR and text extraction\n",
        "- Multilingual field extraction\n",
        "- Document type inference\n",
        "- Output formatting"
      ]
    },
    {
      "cell_type": "code",
      "execution_count": 57,
      "metadata": {},
      "outputs": [],
      "source": [
        "# ✅ Imports (flat structure)\n",
        "from extractor_utils import extract_text_from_pdf\n",
        "from general_extractor import extract_general_fields\n",
        "from field_based_inference import infer_document_type\n",
        "from credit_extractor import extract_credit_fields\n",
        "from investment_extractor import extract_investment_fields\n",
        "from garnishment_extractor import extract_garnishment_fields\n",
        "from personal_account_extractor import extract_personal_account_fields"
      ]
    },
    {
      "cell_type": "code",
      "execution_count": 58,
      "metadata": {},
      "outputs": [
        {
          "name": "stdout",
          "output_type": "stream",
          "text": [
            "\n"
          ]
        }
      ],
      "source": [
        "# 📄 Load document (OCR fallback built-in)\n",
        "text = extract_text_from_pdf(\"sample_docs/doc-2.pdf\")\n",
        "print(text[:1500])  # Preview OCR/text output"
      ]
    },
    {
      "cell_type": "code",
      "execution_count": 59,
      "metadata": {},
      "outputs": [],
      "source": [
        "import re\n",
        "from PyPDF2 import PdfReader\n",
        "from pdf2image import convert_from_path\n",
        "import pytesseract\n",
        "from langdetect import detect, DetectorFactory\n",
        "import tempfile\n",
        "def extract_text_from_pdf(file_path):\n",
        "    \"\"\"Extract text from PDF. Use OCR fallback if PyPDF2 fails.\"\"\"\n",
        "    text = \"\"\n",
        "    try:\n",
        "        reader = PdfReader(file_path)\n",
        "        for page in reader.pages:\n",
        "            page_text = page.extract_text() or \"\"\n",
        "            text += page_text\n",
        "        if text.strip():\n",
        "            print(\"[INFO] Extracted text via PyPDF2.\")\n",
        "            return text\n",
        "    except Exception as e:\n",
        "        print(f\"[WARN] PyPDF2 failed: {e}\")\n",
        "\n",
        "    # OCR fallback\n",
        "    try:\n",
        "        print(\"[INFO] Falling back to OCR...\")\n",
        "        with tempfile.TemporaryDirectory() as tmpdir:\n",
        "            images = convert_from_path(file_path, dpi=300, output_folder=tmpdir)\n",
        "            for i, img in enumerate(images):\n",
        "                ocr_text = pytesseract.image_to_string(img, lang='deu+eng+fra+spa+ita')\n",
        "                print(f\"[DEBUG] Page {i+1} OCR length:\", len(ocr_text))\n",
        "                text += ocr_text\n",
        "    except Exception as e:\n",
        "        print(f\"[ERROR] OCR failed: {e}\")\n",
        "\n",
        "    return text\n"
      ]
    },
    {
      "cell_type": "code",
      "execution_count": 60,
      "metadata": {},
      "outputs": [
        {
          "name": "stdout",
          "output_type": "stream",
          "text": [
            "[INFO] Falling back to OCR...\n",
            "[DEBUG] Page 1 OCR length: 1135\n",
            "[OCR Preview]: Deutsche Sparkasse KTO-DE-78901-2025\n",
            "\n",
            "MITTEILUNG ÜBER KONTOSCHLIESSSUNG\n",
            "\n",
            "Datum: 5. März 2025 Kontonummer: DE89 3704 0044 0532 0130 00\n",
            "\n",
            "Name: Hannah Schmict\n",
            "Anschrift: Mozartstrabe 15, 80336 München, Deutschland\n",
            "Kundennummer: K-78945612\n",
            "\n",
            "Sehr geehrte Frau Schmidt,\n",
            "\n",
            "wir bestatigen den Eingang Inres Antrags aut Schließung Inres Kontos mit der IBAN DE89 3704\n",
            "0044 0532 0130 00 zum 31. Marz 2025. Der aktuelle Kontostand betragt €2.457,83.\n",
            "\n",
            "Wichtige Hinweise zur KontoschlieBung\n",
            "\n",
            "* Alle Dauerauftráge und Lastschritten werden nach dem 31. Marz 2025 nicht mehr ausgeführt.\n",
            "- Bitte informieren Sie Zahlungsemptänger Ober die KontoschlleBung.\n",
            "\n",
            "- Ihre Debitkarte wird zum SchiieBungstermin deaktiviert.\n",
            "\n",
            "* Der Zugang zum Online-Banking endet am 31. Marz 2025.\n",
            "\n",
            "* Der Kontoauszug Zum Abschiuss wird Ihnen per Post zugesandt.\n",
            "\n",
            "Restguthaben\n",
            "\n",
            "Inr verblelbendes Guthaben in Hohe von €2.457,83 wird auf das von Innen angegebene Konto mit\n",
            "der IBAN DE47 1234 5678 9012 3456 78 bel der Commerzbank Uberwiesen.\n",
            "\n",
            "Deutsche Sparkasse - Hauptsitz: Berliner Allee 33, 40212 Dosseldorf - BIC: OUSSDEF1 XXX - Handelsregister: Amisgencii\n",
            "\n",
            "Düsseldort HRB 42267\n",
            "\n"
          ]
        }
      ],
      "source": [
        "text = extract_text_from_pdf(\"sample_docs/doc-01.pdf\")\n",
        "print(\"[OCR Preview]:\", text[:1500])\n"
      ]
    },
    {
      "cell_type": "code",
      "execution_count": 61,
      "metadata": {},
      "outputs": [
        {
          "name": "stdout",
          "output_type": "stream",
          "text": [
            "de\n"
          ]
        }
      ],
      "source": [
        "from langdetect import detect\n",
        "lang = detect(text)\n",
        "print(lang)"
      ]
    },
    {
      "cell_type": "code",
      "execution_count": 62,
      "metadata": {},
      "outputs": [
        {
          "name": "stdout",
          "output_type": "stream",
          "text": [
            "{'account_number': 'DE89 3704 0044 0532 0130 00',\n",
            " 'closing_balance': '2457.83 €',\n",
            " 'customer_id': 'K-78945612',\n",
            " 'customer_name': 'Hannah Schmict',\n",
            " 'document_date': '05.03.2025',\n",
            " 'document_id': 'KTO-DE-78901-2025',\n",
            " 'document_type': 'unknown',\n",
            " 'institution_address': 'Mozartstrabe 15, 80336 München, Deutsch1and',\n",
            " 'institution_name': 'Sparkasse',\n",
            " 'language': 'de',\n",
            " 'transaction_number': 0}\n"
          ]
        }
      ],
      "source": [
        "fields = extract_general_fields(text, lang)\n",
        "fields.update(extract_personal_account_fields(text, lang))\n",
        "\n",
        "from pprint import pprint\n",
        "pprint(fields)"
      ]
    },
    {
      "cell_type": "code",
      "execution_count": 63,
      "metadata": {},
      "outputs": [
        {
          "name": "stdout",
          "output_type": "stream",
          "text": [
            "None\n"
          ]
        }
      ],
      "source": [
        "fields = extract_general_fields(text, \"it\")\n",
        "print(fields[\"customer_id\"])"
      ]
    },
    {
      "cell_type": "code",
      "execution_count": 64,
      "metadata": {},
      "outputs": [
        {
          "name": "stdout",
          "output_type": "stream",
          "text": [
            "[DEBUG] Keyword-based fallback guess: credit\n",
            "Inferred document type: credit\n"
          ]
        }
      ],
      "source": [
        "# 🔍 Infer document type\n",
        "doc_type = infer_document_type(fields, text)\n",
        "print(\"Inferred document type:\", doc_type)"
      ]
    },
    {
      "cell_type": "markdown",
      "metadata": {},
      "source": [
        "# 🚀 Integration Plan (Production Readiness)\n",
        "\n",
        "### ✅ 1. Wrap `document_extractor.py` as a REST API\n",
        "Use **FastAPI** to expose the pipeline as a service:\n",
        "\n",
        "```python\n",
        "from fastapi import FastAPI, File, UploadFile\n",
        "from document_extractor import process_document\n",
        "import tempfile\n",
        "\n",
        "app = FastAPI()\n",
        "\n",
        "@app.post(\"/extract/\")\n",
        "async def extract(file: UploadFile = File(...)):\n",
        "    with tempfile.NamedTemporaryFile(delete=False, suffix=\".pdf\") as tmp:\n",
        "        content = await file.read()\n",
        "        tmp.write(content)\n",
        "        result = process_document(tmp.name)\n",
        "    return result\n",
        "```\n",
        "\n",
        "Run with:\n",
        "```bash\n",
        "uvicorn main:app --reload\n",
        "```\n",
        "\n",
        "---\n",
        "\n",
        "### ✅ 2. Log OCR raw output for debugging\n",
        "In `extract_text_from_pdf()`:\n",
        "```python\n",
        "with open(\"ocr_debug_output.txt\", \"w\", encoding=\"utf-8\") as f:\n",
        "    f.write(text)\n",
        "```\n",
        "\n",
        "---\n",
        "\n",
        "### ✅ 3. Add batch-processing capability\n",
        "Enable CLI processing of entire folder:\n",
        "```python\n",
        "for pdf in os.listdir(input_folder):\n",
        "    if pdf.endswith(\".pdf\"):\n",
        "        result = process_document(os.path.join(input_folder, pdf))\n",
        "```\n",
        "\n",
        "---\n",
        "\n",
        "### ✅ 4. Add PDF validation pre-checks\n",
        "Use PyPDF2 to check for corruption or encryption:\n",
        "```python\n",
        "reader = PdfReader(file_path)\n",
        "if reader.is_encrypted:\n",
        "    raise ValueError(\"Encrypted PDF not supported.\")\n",
        "```\n",
        "\n",
        "---\n",
        "\n",
        "### ✅ 5. Persist JSON to database or message queue\n",
        "Example using MongoDB:\n",
        "```python\n",
        "from pymongo import MongoClient\n",
        "client = MongoClient(\"mongodb://localhost:27017/\")\n",
        "db = client[\"doc_extract\"]\n",
        "db[\"outputs\"].insert_one(output)\n",
        "```\n",
        "\n",
        "---\n",
        "\n",
        "### ✅ 6. Add monitoring and confidence hooks\n",
        "Track:\n",
        "- Language detected\n",
        "- Document type inferred\n",
        "- Field extraction completeness\n",
        "- OCR quality (via pytesseract.image_to_data)\n",
        "\n",
        "Integrate with Prometheus, Sentry, or OpenTelemetry if needed."
      ]
    }
  ],
  "metadata": {
    "kernelspec": {
      "display_name": "zahid",
      "language": "python",
      "name": "python3"
    },
    "language_info": {
      "codemirror_mode": {
        "name": "ipython",
        "version": 3
      },
      "file_extension": ".py",
      "mimetype": "text/x-python",
      "name": "python",
      "nbconvert_exporter": "python",
      "pygments_lexer": "ipython3",
      "version": "3.9.19"
    }
  },
  "nbformat": 4,
  "nbformat_minor": 2
}
